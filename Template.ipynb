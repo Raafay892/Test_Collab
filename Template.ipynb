{
  "nbformat": 4,
  "nbformat_minor": 0,
  "metadata": {
    "colab": {
      "name": "Intro.ipynb",
      "provenance": [],
      "collapsed_sections": [],
      "authorship_tag": "ABX9TyPio+NtMcfD+AqqhIzMuQbe",
      "include_colab_link": true
    },
    "kernelspec": {
      "name": "python3",
      "display_name": "Python 3"
    },
    "language_info": {
      "name": "python"
    }
  },
  "cells": [
    {
      "cell_type": "markdown",
      "metadata": {
        "id": "view-in-github",
        "colab_type": "text"
      },
      "source": [
        "<a href=\"https://colab.research.google.com/github/Raafay892/Test_Collab/blob/main/Template.ipynb\" target=\"_parent\"><img src=\"https://colab.research.google.com/assets/colab-badge.svg\" alt=\"Open In Colab\"/></a>"
      ]
    },
    {
      "cell_type": "code",
      "execution_count": null,
      "metadata": {
        "colab": {
          "base_uri": "https://localhost:8080/"
        },
        "id": "lZFf8RWxVCOC",
        "outputId": "21582183-9fef-4764-b42d-941f4d303b55"
      },
      "outputs": [
        {
          "output_type": "stream",
          "name": "stdout",
          "text": [
            "I love you \n"
          ]
        }
      ],
      "source": [
        "print(\"I love you \")"
      ]
    },
    {
      "cell_type": "code",
      "source": [
        "print(\"I love GOOGLE COLLAB\")"
      ],
      "metadata": {
        "id": "UMzxGm42Xa_9",
        "outputId": "74b9c970-0546-411e-91b0-706d60419914",
        "colab": {
          "base_uri": "https://localhost:8080/"
        }
      },
      "execution_count": 1,
      "outputs": [
        {
          "output_type": "stream",
          "name": "stdout",
          "text": [
            "I love GOOGLE COLLAB\n"
          ]
        }
      ]
    }
  ]
}